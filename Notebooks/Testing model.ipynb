{
 "cells": [
  {
   "cell_type": "code",
   "execution_count": null,
   "metadata": {},
   "outputs": [],
   "source": [
    "import numpy as np\n",
    "import pandas as pd\n",
    "import joblib"
   ]
  },
  {
   "cell_type": "code",
   "execution_count": null,
   "metadata": {},
   "outputs": [],
   "source": [
    "model = joblib.load('model.h5')\n",
    "scaler = joblib.load('scaler.h5')"
   ]
  },
  {
   "cell_type": "code",
   "execution_count": null,
   "metadata": {},
   "outputs": [],
   "source": [
    "x=['BMI', 'Smoking', 'AlcoholDrinking', 'Stroke',\n",
    "       'PhysicalHealth', 'MentalHealth', 'DiffWalking', 'AgeCategory',\n",
    "       'PhysicalActivity', 'GenHealth', 'SleepTime', 'Asthma', 'KidneyDisease',\n",
    "       'SkinCancer', 'Sex_Male', 'Race_Asian', 'Race_Black', 'Race_Hispanic',\n",
    "       'Race_Other', 'Race_White', 'Diabetic_No, borderline diabetes',\n",
    "       'Diabetic_Yes', 'Diabetic_Yes (during pregnancy)']"
   ]
  },
  {
   "cell_type": "code",
   "execution_count": null,
   "metadata": {},
   "outputs": [],
   "source": [
    "def preprocess_Yes_No(col):\n",
    "    return 1 if col.lower() =='yes' else 0\n",
    "\n",
    "def preprocess_Sex(Sex):\n",
    "    return 1 if Sex.lower() == 'male' else 0\n",
    "\n",
    "def preprocess_Agecategory(AgeCategory):\n",
    "    if AgeCategory== '18-24':\n",
    "        return 0\n",
    "    elif AgeCategory=='25-29':\n",
    "        return 1\n",
    "    elif AgeCategory=='30-34':\n",
    "        return 2\n",
    "    elif AgeCategory== '35-39':\n",
    "        return 3\n",
    "    elif AgeCategory== '40-44':\n",
    "        return 4\n",
    "    elif AgeCategory== '45-49':\n",
    "        return 5\n",
    "    elif AgeCategory== '50-54':\n",
    "        return 6\n",
    "    elif AgeCategory=='55-59':\n",
    "        return 7\n",
    "    elif AgeCategory== '60-64':\n",
    "        return 8\n",
    "    elif AgeCategory=='65-69':\n",
    "        return 9\n",
    "    elif AgeCategory=='70-74':\n",
    "        return 10\n",
    "    elif AgeCategory=='75-79':\n",
    "        return 11\n",
    "    elif AgeCategory=='80 or older':\n",
    "        return 12\n",
    "    \n",
    "def preprocess_Race(Race):\n",
    "    if Race.lower() == 'asian':\n",
    "        return [1,0,0,0,0]\n",
    "    elif Race.lower() == 'black':\n",
    "        return [0,1,0,0,0]\n",
    "    elif Race.lower() == 'hispanic':\n",
    "        return [0,0,1,0,0]\n",
    "    elif Race.lower() == 'other':\n",
    "        return [0,0,0,1,0]\n",
    "    elif Race.lower() == 'white':\n",
    "        return [0,0,0,0,1]\n",
    "    else:\n",
    "        return[0,0,0,0,0]    \n",
    "    \n",
    "def preprocess_Diabetic(Diabetic):\n",
    "    if Diabetic.lower() == 'no, borderline diabetes':\n",
    "        return [1,0,0]\n",
    "    elif Diabetic.lower()== 'yes':\n",
    "        return [0,1,0]\n",
    "    elif Diabetic.lower() == 'yes (during pregnancy)':\n",
    "        return [0,0,1]\n",
    "    else:\n",
    "        return [0,0,0]\n",
    "    \n",
    "def preprocess_Genhealth(GenHealth):\n",
    "    if GenHealth.lower() == 'poor': \n",
    "        return 0\n",
    "    elif GenHealth.lower() =='fair': \n",
    "        return 1\n",
    "    elif GenHealth.lower()=='good': \n",
    "        return 2\n",
    "    elif GenHealth.lower()== 'very good':\n",
    "        return 3\n",
    "    else:\n",
    "        return 4\n"
   ]
  },
  {
   "cell_type": "code",
   "execution_count": null,
   "metadata": {},
   "outputs": [],
   "source": [
    "## data is ductionary contains all input from the user\n",
    "def Preprocess(data):\n",
    "    BMI=data['BMI']\n",
    "    smoker=preprocess_Yes_No(data['Smoking'])\n",
    "    Alcohol_drink=preprocess_Yes_No(data['AlcoholDrinking'])\n",
    "    stroke=preprocess_Yes_No(data['Stroke'])\n",
    "    physical_health=data['PhysicalHealth']\n",
    "    mental_health=data['MentalHealth']\n",
    "    Diff_walk=preprocess_Yes_No(data['DiffWalking'])\n",
    "    sex=preprocess_Sex(data['Sex'])\n",
    "    age_category=preprocess_Agecategory(data['AgeCategory'])\n",
    "    race=preprocess_Race(data['Race'])\n",
    "    diabetic=preprocess_Diabetic(data['Diabetic'])\n",
    "    physical_activity=preprocess_Yes_No(data['PhysicalActivity'])\n",
    "    general_health=preprocess_Genhealth(data['GenHealth'])\n",
    "    sleep_time=data['SleepTime']\n",
    "    asthma = preprocess_Yes_No(data['Asthma'])\n",
    "    kidney_disease=preprocess_Yes_No(data['KidneyDisease'])\n",
    "    skin_cancer=preprocess_Yes_No(data['SkinCancer'])\n",
    "    \n",
    "    final_data = [BMI, smoker, Alcohol_drink, stroke, physical_health, mental_health, Diff_walk, sex, age_category] + race + diabetic + [physical_activity ,general_health, sleep_time, asthma, kidney_disease, skin_cancer]\n",
    "    return np.array(final_data)"
   ]
  },
  {
   "cell_type": "code",
   "execution_count": null,
   "metadata": {},
   "outputs": [
    {
     "name": "stdout",
     "output_type": "stream",
     "text": [
      "BMI\n",
      "enter the BMI25\n",
      "Smoking\n",
      "enter the Smokingyes\n",
      "AlcoholDrinking\n",
      "enter the AlcoholDrinkingno\n",
      "Stroke\n",
      "enter the Strokeyes\n",
      "PhysicalHealth\n",
      "enter the PhysicalHealth20\n",
      "MentalHealth\n",
      "enter the MentalHealth10\n",
      "DiffWalking\n",
      "enter the DiffWalkingyes\n",
      "Sex\n",
      "enter the Sexmale\n",
      "AgeCategory\n",
      "enter the AgeCategory18-24\n",
      "Race\n",
      "enter the Racewhite\n",
      "Diabetic\n",
      "enter the Diabeticno\n",
      "PhysicalActivity\n",
      "enter the PhysicalActivityyes\n",
      "GenHealth\n",
      "enter the GenHealthpoor\n",
      "SleepTime\n",
      "enter the SleepTime10\n",
      "Asthma\n",
      "enter the Asthmayes\n",
      "KidneyDisease\n",
      "enter the KidneyDiseaseyes\n",
      "SkinCancer\n",
      "enter the SkinCanceryes\n"
     ]
    }
   ],
   "source": [
    "inputs = ['BMI','Smoking', 'AlcoholDrinking', 'Stroke','PhysicalHealth', 'MentalHealth', 'DiffWalking', 'Sex', 'AgeCategory','Race',\n",
    "          'Diabetic', 'PhysicalActivity', 'GenHealth','SleepTime','Asthma', 'KidneyDisease', 'SkinCancer']\n",
    "data = {key : None for key in inputs}\n",
    "\n",
    "for key in data.keys() :\n",
    "    print(key)\n",
    "    value = input(f'enter the {key}')\n",
    "    data[key] = value"
   ]
  },
  {
   "cell_type": "code",
   "execution_count": null,
   "metadata": {},
   "outputs": [
    {
     "data": {
      "text/plain": [
       "{'BMI': '25',\n",
       " 'Smoking': 'yes',\n",
       " 'AlcoholDrinking': 'no',\n",
       " 'Stroke': 'yes',\n",
       " 'PhysicalHealth': '20',\n",
       " 'MentalHealth': '10',\n",
       " 'DiffWalking': 'yes',\n",
       " 'Sex': 'male',\n",
       " 'AgeCategory': '18-24',\n",
       " 'Race': 'white',\n",
       " 'Diabetic': 'no',\n",
       " 'PhysicalActivity': 'yes',\n",
       " 'GenHealth': 'poor',\n",
       " 'SleepTime': '10',\n",
       " 'Asthma': 'yes',\n",
       " 'KidneyDisease': 'yes',\n",
       " 'SkinCancer': 'yes'}"
      ]
     },
     "execution_count": 92,
     "metadata": {},
     "output_type": "execute_result"
    }
   ],
   "source": [
    "data"
   ]
  },
  {
   "cell_type": "code",
   "execution_count": null,
   "metadata": {
    "scrolled": false
   },
   "outputs": [
    {
     "name": "stdout",
     "output_type": "stream",
     "text": [
      "['25' '1' '0' '1' '20' '10' '1' '1' '0' '0' '0' '0' '0' '1' '0' '0' '0'\n",
      " '1' '0' '10' '1' '1' '1']\n"
     ]
    }
   ],
   "source": [
    "final_data = Preprocess(data)\n",
    "print(final_data)"
   ]
  },
  {
   "cell_type": "code",
   "execution_count": null,
   "metadata": {},
   "outputs": [
    {
     "name": "stderr",
     "output_type": "stream",
     "text": [
      "C:\\Users\\ascom\\anaconda3\\lib\\site-packages\\sklearn\\base.py:451: UserWarning: X does not have valid feature names, but StandardScaler was fitted with feature names\n",
      "  \"X does not have valid feature names, but\"\n"
     ]
    },
    {
     "data": {
      "text/plain": [
       "array([[ 2.50097059e+01,  1.19642755e+00, -2.70772360e-01,\n",
       "         5.10894032e+00,  1.98805101e+01,  9.98041777e+00,\n",
       "         2.48789787e+00, -1.54755399e+00, -1.85898659e+00,\n",
       "        -2.48943913e+00, -5.00612909e-03, -3.96048272e-01,\n",
       "        -1.97280209e-01,  3.14991435e+00, -9.43834534e-01,\n",
       "        -1.61714411e-01, -2.76351781e-01,  3.25244296e+00,\n",
       "        -1.87223166e-01,  2.18766161e+01,  6.71911189e+00,\n",
       "         2.62272086e+00,  1.11429073e+01]])"
      ]
     },
     "execution_count": 118,
     "metadata": {},
     "output_type": "execute_result"
    }
   ],
   "source": [
    "scaler.transform([final_data])"
   ]
  },
  {
   "cell_type": "code",
   "execution_count": null,
   "metadata": {},
   "outputs": [
    {
     "name": "stderr",
     "output_type": "stream",
     "text": [
      "C:\\Users\\ascom\\anaconda3\\lib\\site-packages\\sklearn\\base.py:451: UserWarning: X does not have valid feature names, but StandardScaler was fitted with feature names\n",
      "  \"X does not have valid feature names, but\"\n"
     ]
    },
    {
     "data": {
      "text/plain": [
       "array([0], dtype=int64)"
      ]
     },
     "execution_count": 116,
     "metadata": {},
     "output_type": "execute_result"
    }
   ],
   "source": [
    "result = model.predict(scaler.transform([final_data]))\n",
    "result"
   ]
  },
  {
   "cell_type": "code",
   "execution_count": null,
   "metadata": {},
   "outputs": [
    {
     "data": {
      "text/plain": [
       "0"
      ]
     },
     "execution_count": 119,
     "metadata": {},
     "output_type": "execute_result"
    }
   ],
   "source": [
    "result[0]"
   ]
  }
 ],
 "metadata": {
  "kernelspec": {
   "display_name": "Python 3 (ipykernel)",
   "language": "python",
   "name": "python3"
  },
  "language_info": {
   "codemirror_mode": {
    "name": "ipython",
    "version": 3
   },
   "file_extension": ".py",
   "mimetype": "text/x-python",
   "name": "python",
   "nbconvert_exporter": "python",
   "pygments_lexer": "ipython3",
   "version": "3.10.0"
  }
 },
 "nbformat": 4,
 "nbformat_minor": 4
}
